{
 "cells": [
  {
   "cell_type": "code",
   "execution_count": 38,
   "id": "2366e293",
   "metadata": {},
   "outputs": [],
   "source": [
    "from pandas_datareader import data\n",
    "import datetime\n",
    "from bokeh.plotting import figure, show ,output_file\n",
    "\n",
    "start=datetime.datetime(2021,3,1)\n",
    "#end = datetime.datetime(2021,3,10)\n",
    "df = data.DataReader(name = \"AAPL\",data_source=\"yahoo\",start=start)\n",
    "\n"
   ]
  },
  {
   "cell_type": "code",
   "execution_count": 40,
   "id": "9454fd1a",
   "metadata": {},
   "outputs": [],
   "source": [
    "df[\"Start\"]=df.index-datetime.timedelta(hours=6)\n",
    "df[\"End\"]=df.index+datetime.timedelta(hours=6)\n",
    "\n",
    "def inc_dec(c,o):\n",
    "    if c>=o:\n",
    "        return \"Increase\"\n",
    "    else:\n",
    "        return \"Decrease\"\n",
    "    \n",
    "df[\"Status\"]=[inc_dec(c,o) for c,o in zip(df.Close,df.Open)]"
   ]
  },
  {
   "cell_type": "code",
   "execution_count": 45,
   "id": "3f9aa52d",
   "metadata": {},
   "outputs": [],
   "source": [
    "p = figure (x_axis_type = 'datetime', width=1000,height=300, sizing_mode = 'scale_width',title='Candle Stick Chart')\n",
    "p.grid.grid_line_alpha=0.3\n",
    "p.segment(df.index,df.High,df.index,df.Low,color=\"Black\")\n",
    "p.quad(left=\"Start\",right=\"End\", top=\"Close\",\n",
    "       bottom=\"Open\", source=df[df.Status==\"Increase\"],fill_color=\"limegreen\",line_color=\"black\")\n",
    "p.quad(left=\"Start\",right=\"End\", top=\"Open\",\n",
    "       bottom=\"Close\", source=df[df.Status==\"Decrease\"],fill_color=\"firebrick\",line_color=\"black\")\n",
    "\n",
    "\n",
    "output_file(\"candleStick.html\")\n",
    "show(p)"
   ]
  },
  {
   "cell_type": "code",
   "execution_count": null,
   "id": "69a3dcb2",
   "metadata": {},
   "outputs": [],
   "source": []
  }
 ],
 "metadata": {
  "kernelspec": {
   "display_name": "Python 3",
   "language": "python",
   "name": "python3"
  },
  "language_info": {
   "codemirror_mode": {
    "name": "ipython",
    "version": 3
   },
   "file_extension": ".py",
   "mimetype": "text/x-python",
   "name": "python",
   "nbconvert_exporter": "python",
   "pygments_lexer": "ipython3",
   "version": "3.9.5"
  }
 },
 "nbformat": 4,
 "nbformat_minor": 5
}
